{
 "cells": [
  {
   "cell_type": "markdown",
   "metadata": {},
   "source": [
    "# Your first Recurrent Neural Network (RNN)"
   ]
  },
  {
   "cell_type": "markdown",
   "metadata": {},
   "source": [
    "🙌 Welcome to RNN! After using CNN in the previous lesson to deal with images (spatial data), you are going to deal with time-related data (***temporal data***).\n",
    "\n",
    "🎯 Goals of this warm-up challenge:\n",
    "1. Understand what temporal data is\n",
    "2. Build your first Recurrent Neural Network\n",
    "\n"
   ]
  },
  {
   "cell_type": "markdown",
   "metadata": {},
   "source": [
    "## (1) The dataset"
   ]
  },
  {
   "cell_type": "markdown",
   "metadata": {},
   "source": [
    "🔢 Imagine that we have access to some data about employees in a company."
   ]
  },
  {
   "cell_type": "code",
   "execution_count": 1,
   "metadata": {},
   "outputs": [],
   "source": [
    "import numpy as np\n",
    "\n",
    "X = np.load('X.npy')\n",
    "y = np.load('y.npy')"
   ]
  },
  {
   "cell_type": "code",
   "execution_count": 13,
   "metadata": {},
   "outputs": [
    {
     "data": {
      "text/plain": [
       "array([  5.199,  39.   , 108.   ], dtype=float32)"
      ]
     },
     "execution_count": 13,
     "metadata": {},
     "output_type": "execute_result"
    }
   ],
   "source": [
    "# X.shape, y.shape\n",
    "X[0][9]"
   ]
  },
  {
   "cell_type": "markdown",
   "metadata": {},
   "source": [
    "☝️ The dataset describes the evolution of the **employment status of 25 000 employees, year after year**: each sequence corresponds to 10 consecutive years, where each year describes a job situation, comprising  3 components\n",
    "- the salary,\n",
    "- the number of people under someone's responsability,\n",
    "- the size of the company. \n",
    "\n",
    "🕵🏻 To understand the dataset a bit better, let's show the data of the first employee."
   ]
  },
  {
   "cell_type": "code",
   "execution_count": 3,
   "metadata": {},
   "outputs": [
    {
     "data": {
      "text/html": [
       "<div>\n",
       "<style scoped>\n",
       "    .dataframe tbody tr th:only-of-type {\n",
       "        vertical-align: middle;\n",
       "    }\n",
       "\n",
       "    .dataframe tbody tr th {\n",
       "        vertical-align: top;\n",
       "    }\n",
       "\n",
       "    .dataframe thead th {\n",
       "        text-align: right;\n",
       "    }\n",
       "</style>\n",
       "<table border=\"1\" class=\"dataframe\">\n",
       "  <thead>\n",
       "    <tr style=\"text-align: right;\">\n",
       "      <th></th>\n",
       "      <th>salary</th>\n",
       "      <th>responsability</th>\n",
       "      <th>company_size</th>\n",
       "    </tr>\n",
       "  </thead>\n",
       "  <tbody>\n",
       "    <tr>\n",
       "      <th>0</th>\n",
       "      <td>0.80</td>\n",
       "      <td>10.73</td>\n",
       "      <td>102.0</td>\n",
       "    </tr>\n",
       "    <tr>\n",
       "      <th>1</th>\n",
       "      <td>0.50</td>\n",
       "      <td>10.73</td>\n",
       "      <td>102.0</td>\n",
       "    </tr>\n",
       "    <tr>\n",
       "      <th>2</th>\n",
       "      <td>0.60</td>\n",
       "      <td>10.73</td>\n",
       "      <td>102.0</td>\n",
       "    </tr>\n",
       "    <tr>\n",
       "      <th>3</th>\n",
       "      <td>0.71</td>\n",
       "      <td>10.73</td>\n",
       "      <td>130.0</td>\n",
       "    </tr>\n",
       "    <tr>\n",
       "      <th>4</th>\n",
       "      <td>0.94</td>\n",
       "      <td>10.73</td>\n",
       "      <td>130.0</td>\n",
       "    </tr>\n",
       "    <tr>\n",
       "      <th>5</th>\n",
       "      <td>1.05</td>\n",
       "      <td>10.73</td>\n",
       "      <td>130.0</td>\n",
       "    </tr>\n",
       "    <tr>\n",
       "      <th>6</th>\n",
       "      <td>1.12</td>\n",
       "      <td>32.00</td>\n",
       "      <td>108.0</td>\n",
       "    </tr>\n",
       "    <tr>\n",
       "      <th>7</th>\n",
       "      <td>4.87</td>\n",
       "      <td>32.00</td>\n",
       "      <td>108.0</td>\n",
       "    </tr>\n",
       "    <tr>\n",
       "      <th>8</th>\n",
       "      <td>4.97</td>\n",
       "      <td>33.00</td>\n",
       "      <td>108.0</td>\n",
       "    </tr>\n",
       "    <tr>\n",
       "      <th>9</th>\n",
       "      <td>5.20</td>\n",
       "      <td>39.00</td>\n",
       "      <td>108.0</td>\n",
       "    </tr>\n",
       "  </tbody>\n",
       "</table>\n",
       "</div>"
      ],
      "text/plain": [
       "   salary  responsability  company_size\n",
       "0    0.80           10.73         102.0\n",
       "1    0.50           10.73         102.0\n",
       "2    0.60           10.73         102.0\n",
       "3    0.71           10.73         130.0\n",
       "4    0.94           10.73         130.0\n",
       "5    1.05           10.73         130.0\n",
       "6    1.12           32.00         108.0\n",
       "7    4.87           32.00         108.0\n",
       "8    4.97           33.00         108.0\n",
       "9    5.20           39.00         108.0"
      ]
     },
     "execution_count": 3,
     "metadata": {},
     "output_type": "execute_result"
    }
   ],
   "source": [
    "import pandas as pd\n",
    "\n",
    "employee_0 = pd.DataFrame(X[0],\n",
    "                          columns=['salary',\n",
    "                                   'responsability',\n",
    "                                   'company_size'])\n",
    "round(employee_0,2)"
   ]
  },
  {
   "cell_type": "markdown",
   "metadata": {},
   "source": [
    "🎯 The goal in this challenge is to predict the montly salary on the 11th year for each of these 25000 employees, based on the past observations."
   ]
  },
  {
   "cell_type": "code",
   "execution_count": 4,
   "metadata": {},
   "outputs": [
    {
     "data": {
      "text/plain": [
       "6.499"
      ]
     },
     "execution_count": 4,
     "metadata": {},
     "output_type": "execute_result"
    }
   ],
   "source": [
    "# For example, the first employee earns 6.499 k USD per month\n",
    "# during the 11th year at the company\n",
    "y[0]"
   ]
  },
  {
   "cell_type": "code",
   "execution_count": 17,
   "metadata": {},
   "outputs": [
    {
     "data": {
      "text/plain": [
       "(25000, 10, 3)"
      ]
     },
     "execution_count": 17,
     "metadata": {},
     "output_type": "execute_result"
    }
   ],
   "source": [
    "X.shape"
   ]
  },
  {
   "cell_type": "markdown",
   "metadata": {},
   "source": [
    "📈 To help you get a better understanding about the evolution of the salaries, the number of people under their responsbility and the company size over the years, you can run the cell down below. Do you visually detect some correlations between these three variables ?"
   ]
  },
  {
   "cell_type": "code",
   "execution_count": 5,
   "metadata": {},
   "outputs": [
    {
     "data": {
      "image/png": "[encoded data removed]",
      "text/plain": [
       "<Figure size 432x288 with 1 Axes>"
      ]
     },
     "metadata": {
      "needs_background": "light"
     },
     "output_type": "display_data"
    },
    {
     "data": {
      "image/png": "[encoded data removed]",
      "text/plain": [
       "<Figure size 432x288 with 1 Axes>"
      ]
     },
     "metadata": {
      "needs_background": "light"
     },
     "output_type": "display_data"
    },
    {
     "data": {
      "image/png": "[encoded data removed]",
      "text/plain": [
       "<Figure size 432x288 with 1 Axes>"
      ]
     },
     "metadata": {
      "needs_background": "light"
     },
     "output_type": "display_data"
    }
   ],
   "source": [
    "import matplotlib.pyplot as plt\n",
    "%matplotlib inline\n",
    "\n",
    "number_of_employees = len(X)\n",
    "number_of_randomly_selected_employees = 5\n",
    "\n",
    "random_selection = np.random.randint(0, \n",
    "                                     number_of_employees,\n",
    "                                     number_of_randomly_selected_employees)\n",
    "\n",
    "# As the employees are selected randomly, feel free to re-run this cell a few times !\n",
    "\n",
    "plt.title('Salary')\n",
    "\n",
    "for r in random_selection:\n",
    "    plt.plot(X[r, :, 0],label=f\"Employee number {r}\",linestyle=\":\",marker=\"o\")\n",
    "    plt.legend(loc='upper left')\n",
    "plt.show()\n",
    "\n",
    "plt.title('Person under responsibility')\n",
    "for r in random_selection:\n",
    "    plt.plot(X[r, :, 1],label=f\"Employee number {r}\",linestyle=\":\",marker=\"o\")\n",
    "    plt.legend(loc='upper left')\n",
    "plt.show()\n",
    "\n",
    "plt.title('Company sizes')\n",
    "for r in random_selection:\n",
    "    plt.plot(X[r, :, 2],label=f\"Employee number {r}\",linestyle=\":\",marker=\"o\")\n",
    "    plt.legend(loc='upper left')\n",
    "plt.show()"
   ]
  },
  {
   "cell_type": "markdown",
   "metadata": {},
   "source": [
    "❓ **Question** ❓ Plot the distribution of:\n",
    "* all the salaries during the 10th yaer, \n",
    "* people under someone's responsibility, \n",
    "* and the company sizes \n",
    "\n",
    "to get a better understanding of the variability of observations"
   ]
  },
  {
   "cell_type": "code",
   "execution_count": 16,
   "metadata": {
    "tags": [
     "challengify"
    ]
   },
   "outputs": [
    {
     "data": {
      "image/png": "[encoded data removed]",
      "text/plain": [
       "<Figure size 432x288 with 1 Axes>"
      ]
     },
     "metadata": {
      "needs_background": "light"
     },
     "output_type": "display_data"
    },
    {
     "data": {
      "image/png": "[encoded data removed]",
      "text/plain": [
       "<Figure size 432x288 with 1 Axes>"
      ]
     },
     "metadata": {
      "needs_background": "light"
     },
     "output_type": "display_data"
    },
    {
     "data": {
      "image/png": "[encoded data removed]",
      "text/plain": [
       "<Figure size 432x288 with 1 Axes>"
      ]
     },
     "metadata": {
      "needs_background": "light"
     },
     "output_type": "display_data"
    }
   ],
   "source": [
    "# YOUR CODE HERE\n",
    "import seaborn as sns\n",
    "\n",
    "plt.title(\"Salaries on the 10th year\")\n",
    "sns.histplot(X[:, -1, 0].flatten())\n",
    "plt.show()\n",
    "\n",
    "plt.title(\"# of people under someone's responsibility\")\n",
    "sns.histplot(X[:, :, 1].flatten())\n",
    "plt.show()\n",
    "\n",
    "plt.title(\"Company size\")\n",
    "sns.histplot(X[:, :, 2].flatten())\n",
    "plt.show()"
   ]
  },
  {
   "cell_type": "markdown",
   "metadata": {},
   "source": [
    "❓ **Question** ❓  Split your dataset between a train and test set (80/20)"
   ]
  },
  {
   "cell_type": "code",
   "execution_count": 18,
   "metadata": {
    "tags": [
     "challengify"
    ]
   },
   "outputs": [],
   "source": [
    "# YOUR CODE HERE\n",
    "from sklearn.model_selection import train_test_split\n",
    "\n",
    "X_train, X_test, y_train, y_test = train_test_split(X, y, test_size=0.20)\n"
   ]
  },
  {
   "cell_type": "markdown",
   "metadata": {},
   "source": [
    "## (2) A Simple RNN"
   ]
  },
  {
   "cell_type": "markdown",
   "metadata": {},
   "source": [
    "🤗 Now that you are familiar with this company's dataset, you will create your first Recurrent Neural Network. Let's start with a simple architecture."
   ]
  },
  {
   "cell_type": "markdown",
   "metadata": {},
   "source": [
    "❓ **Question** ❓ Write a model that has: \n",
    "- a ***Normalization*** layer adapted on the training set\n",
    "- a ***SimpleRNN*** layer with 20 *units* (don't forget that `tanh` is better suited as an activation function for a Recurrent Layer)\n",
    "- a ***Dense*** layer with 10 neurons\n",
    "- a ***Dense*** layer specific to your task (= to ***predict*** a salary)\n",
    "\n",
    "👩🏻‍🏫 <u>Remember</u>: You don't need to specify an `input_shape`: as soon as your Normalizer has been adapted to your train set, it has memorized the input shape!"
   ]
  },
  {
   "cell_type": "code",
   "execution_count": 20,
   "metadata": {},
   "outputs": [],
   "source": [
    "from tensorflow.keras.layers.experimental.preprocessing import Normalization\n",
    "from tensorflow.keras.models import Sequential\n",
    "from tensorflow.keras.layers import Dense, SimpleRNN, Flatten"
   ]
  },
  {
   "cell_type": "code",
   "execution_count": 21,
   "metadata": {
    "tags": [
     "challengify"
    ]
   },
   "outputs": [
    {
     "name": "stderr",
     "output_type": "stream",
     "text": [
      "2022-05-12 21:07:34.986871: I tensorflow/core/platform/cpu_feature_guard.cc:151] This TensorFlow binary is optimized with oneAPI Deep Neural Network Library (oneDNN) to use the following CPU instructions in performance-critical operations:  AVX2 FMA\n",
      "To enable them in other operations, rebuild TensorFlow with the appropriate compiler flags.\n"
     ]
    }
   ],
   "source": [
    "# YOUR CODE HERE\n",
    "normalizer = Normalization()\n",
    "normalizer.adapt(X_train)\n",
    "\n",
    "# Building the RNN architecture\n",
    "model = Sequential()\n",
    "model.add(normalizer)\n",
    "model.add(SimpleRNN(units=20, activation='tanh'))\n",
    "model.add(Dense(10, activation='relu'))\n",
    "model.add(Dense(1, activation='linear'))"
   ]
  },
  {
   "cell_type": "markdown",
   "metadata": {},
   "source": [
    "❓ **Question**: How many trainable does your RNN have ❓"
   ]
  },
  {
   "cell_type": "code",
   "execution_count": 22,
   "metadata": {
    "tags": [
     "challengify"
    ]
   },
   "outputs": [
    {
     "name": "stdout",
     "output_type": "stream",
     "text": [
      "Model: \"sequential\"\n",
      "_________________________________________________________________\n",
      " Layer (type)                Output Shape              Param #   \n",
      "=================================================================\n",
      " normalization (Normalizatio  (None, None, 3)          7         \n",
      " n)                                                              \n",
      "                                                                 \n",
      " simple_rnn (SimpleRNN)      (None, 20)                480       \n",
      "                                                                 \n",
      " dense (Dense)               (None, 10)                210       \n",
      "                                                                 \n",
      " dense_1 (Dense)             (None, 1)                 11        \n",
      "                                                                 \n",
      "=================================================================\n",
      "Total params: 708\n",
      "Trainable params: 701\n",
      "Non-trainable params: 7\n",
      "_________________________________________________________________\n"
     ]
    }
   ],
   "source": [
    "# YOUR CODE HERE\n",
    "model.summary()"
   ]
  },
  {
   "cell_type": "markdown",
   "metadata": {},
   "source": [
    "❓ **Question** ❓ Try to recompute the number of parameters manually.\n"
   ]
  },
  {
   "cell_type": "markdown",
   "metadata": {
    "tags": [
     "challengify"
    ]
   },
   "source": [
    "> YOUR ANSWER HERE"
   ]
  },
  {
   "cell_type": "markdown",
   "metadata": {},
   "source": [
    "❓ **Question** ❓ Compile your model. For RNN, we recommend you to use the ***rmsprop*** optimizer (instead of *adam*)."
   ]
  },
  {
   "cell_type": "code",
   "execution_count": 23,
   "metadata": {
    "tags": [
     "challengify"
    ]
   },
   "outputs": [],
   "source": [
    "# YOUR CODE HERE\n",
    "def compile_model(model):\n",
    "    model.compile(loss='mse',\n",
    "                  optimizer='rmsprop', \n",
    "                  metrics=['mae'])\n",
    "    return model\n",
    "\n",
    "model = compile_model(model)"
   ]
  },
  {
   "cell_type": "markdown",
   "metadata": {},
   "source": [
    "❓ **Questions** ❓ \n",
    "\n",
    "* Run your model on your training dataset:\n",
    "    * use a Validation Split of 20%\n",
    "    * and an Early Stopping Criterion with patience $= 5 $\n",
    "* Evaluate your performance on the test set"
   ]
  },
  {
   "cell_type": "code",
   "execution_count": 24,
   "metadata": {
    "tags": [
     "challengify"
    ]
   },
   "outputs": [
    {
     "name": "stdout",
     "output_type": "stream",
     "text": [
      "Epoch 1/100\n",
      "500/500 [==============================] - 2s 3ms/step - loss: 13.7972 - mae: 1.5163 - val_loss: 3.7966 - val_mae: 0.6988\n",
      "Epoch 2/100\n",
      "500/500 [==============================] - 1s 3ms/step - loss: 2.6121 - mae: 0.5755 - val_loss: 1.5218 - val_mae: 0.4709\n",
      "Epoch 3/100\n",
      "500/500 [==============================] - 1s 2ms/step - loss: 1.6270 - mae: 0.4576 - val_loss: 1.0932 - val_mae: 0.4439\n",
      "Epoch 4/100\n",
      "500/500 [==============================] - 1s 2ms/step - loss: 1.3046 - mae: 0.4156 - val_loss: 0.8848 - val_mae: 0.3637\n",
      "Epoch 5/100\n",
      "500/500 [==============================] - 1s 2ms/step - loss: 1.1297 - mae: 0.3977 - val_loss: 0.8878 - val_mae: 0.5092\n",
      "Epoch 6/100\n",
      "500/500 [==============================] - 1s 3ms/step - loss: 1.0409 - mae: 0.3930 - val_loss: 0.7405 - val_mae: 0.3861\n",
      "Epoch 7/100\n",
      "500/500 [==============================] - 1s 3ms/step - loss: 1.0276 - mae: 0.3990 - val_loss: 0.6569 - val_mae: 0.3302\n",
      "Epoch 8/100\n",
      "500/500 [==============================] - 2s 5ms/step - loss: 0.9118 - mae: 0.3732 - val_loss: 0.6996 - val_mae: 0.3521\n",
      "Epoch 9/100\n",
      "500/500 [==============================] - 1s 3ms/step - loss: 0.8647 - mae: 0.3602 - val_loss: 0.6408 - val_mae: 0.3622\n",
      "Epoch 10/100\n",
      "500/500 [==============================] - 1s 3ms/step - loss: 0.8230 - mae: 0.3543 - val_loss: 0.5937 - val_mae: 0.3221\n",
      "Epoch 11/100\n",
      "500/500 [==============================] - 1s 2ms/step - loss: 0.7878 - mae: 0.3502 - val_loss: 0.5658 - val_mae: 0.3194\n",
      "Epoch 12/100\n",
      "500/500 [==============================] - 1s 2ms/step - loss: 0.7751 - mae: 0.3462 - val_loss: 0.5964 - val_mae: 0.3654\n",
      "Epoch 13/100\n",
      "500/500 [==============================] - 1s 3ms/step - loss: 0.7425 - mae: 0.3421 - val_loss: 0.6871 - val_mae: 0.4781\n",
      "Epoch 14/100\n",
      "500/500 [==============================] - 2s 4ms/step - loss: 0.7406 - mae: 0.3381 - val_loss: 0.5738 - val_mae: 0.2875\n",
      "Epoch 15/100\n",
      "500/500 [==============================] - 2s 3ms/step - loss: 0.7342 - mae: 0.3386 - val_loss: 0.6652 - val_mae: 0.4708\n",
      "Epoch 16/100\n",
      "500/500 [==============================] - 1s 3ms/step - loss: 0.7314 - mae: 0.3377 - val_loss: 0.5513 - val_mae: 0.2544\n",
      "Epoch 17/100\n",
      "500/500 [==============================] - 2s 3ms/step - loss: 0.7151 - mae: 0.3332 - val_loss: 0.5685 - val_mae: 0.2672\n",
      "Epoch 18/100\n",
      "500/500 [==============================] - 1s 3ms/step - loss: 0.7083 - mae: 0.3320 - val_loss: 0.5800 - val_mae: 0.2743\n",
      "Epoch 19/100\n",
      "500/500 [==============================] - 2s 3ms/step - loss: 0.6985 - mae: 0.3328 - val_loss: 0.5525 - val_mae: 0.2689\n",
      "Epoch 20/100\n",
      "500/500 [==============================] - 1s 3ms/step - loss: 0.7016 - mae: 0.3300 - val_loss: 0.5779 - val_mae: 0.2675\n",
      "Epoch 21/100\n",
      "500/500 [==============================] - 1s 3ms/step - loss: 0.6914 - mae: 0.3315 - val_loss: 0.5479 - val_mae: 0.2507\n",
      "Epoch 22/100\n",
      "500/500 [==============================] - 1s 3ms/step - loss: 0.7028 - mae: 0.3285 - val_loss: 0.6210 - val_mae: 0.3047\n",
      "Epoch 23/100\n",
      "500/500 [==============================] - 1s 3ms/step - loss: 0.6862 - mae: 0.3278 - val_loss: 0.5697 - val_mae: 0.2923\n",
      "Epoch 24/100\n",
      "500/500 [==============================] - 1s 2ms/step - loss: 0.6965 - mae: 0.3294 - val_loss: 0.5886 - val_mae: 0.3134\n",
      "Epoch 25/100\n",
      "500/500 [==============================] - 1s 2ms/step - loss: 0.6909 - mae: 0.3244 - val_loss: 0.5760 - val_mae: 0.3104\n",
      "Epoch 26/100\n",
      "500/500 [==============================] - 1s 2ms/step - loss: 0.6832 - mae: 0.3264 - val_loss: 0.6403 - val_mae: 0.3473\n"
     ]
    }
   ],
   "source": [
    "# YOUR CODE HERE\n",
    "from tensorflow.keras.callbacks import EarlyStopping\n",
    "\n",
    "es = EarlyStopping(patience=5, restore_best_weights=True)\n",
    "\n",
    "history = model.fit(X_train, y_train,\n",
    "                    validation_split=0.2,\n",
    "                    batch_size=32, \n",
    "                    epochs=100, \n",
    "                    callbacks=[es],\n",
    "                    verbose=1)"
   ]
  },
  {
   "cell_type": "code",
   "execution_count": 27,
   "metadata": {},
   "outputs": [
    {
     "data": {
      "text/plain": [
       "<matplotlib.legend.Legend at 0x1425af640>"
      ]
     },
     "execution_count": 27,
     "metadata": {},
     "output_type": "execute_result"
    },
    {
     "data": {
      "image/png": "[encoded data removed]",
      "text/plain": [
       "<Figure size 432x288 with 1 Axes>"
      ]
     },
     "metadata": {
      "needs_background": "light"
     },
     "output_type": "display_data"
    }
   ],
   "source": [
    "plt.plot(history.history[\"mae\"], label = \"Train MAE\")\n",
    "plt.plot(history.history[\"val_mae\"], label = \"Validation MAE\")\n",
    "plt.legend()"
   ]
  },
  {
   "cell_type": "code",
   "execution_count": 28,
   "metadata": {},
   "outputs": [
    {
     "name": "stdout",
     "output_type": "stream",
     "text": [
      "Model Mean Absolute Error 0.2486\n"
     ]
    }
   ],
   "source": [
    "model_mae = model.evaluate(X_test, y_test, verbose=0)\n",
    "\n",
    "print(f'Model Mean Absolute Error {model_mae[1]:.4f}')"
   ]
  },
  {
   "cell_type": "markdown",
   "metadata": {},
   "source": [
    "## (3) Baseline comparison"
   ]
  },
  {
   "cell_type": "markdown",
   "metadata": {},
   "source": [
    "❗️**Important Reminder**❗️ : Always remember to compare your Deep Learning models, and more generally any Machine Learning model, to a baseline. \n",
    "\n",
    "🧑🏻‍🏫 Remember that our goal is to predict the salary of the employees for the 11th year. It is a ***Regression Task***. What baseline could we build ? \n",
    "1. In the case of a traditional regression model, a baseline prediction for `y_test` is  to **predict the average of `y_train`**... but this option could be irrelevant for time-related series. Theoretically, someone's salary is supposed to increase of the year s!\n",
    "2. An alternative baseline prediction for a regression task is to **predict the last seen value**"
   ]
  },
  {
   "cell_type": "markdown",
   "metadata": {},
   "source": [
    "❓ **Questions** ❓ \n",
    "* Compute the Mean Absolute Error of a baseline model that would predict that the salary remains constant between the 10-th and 11-th year\n",
    "* Compare this baseline model to your RNN"
   ]
  },
  {
   "cell_type": "code",
   "execution_count": 29,
   "metadata": {
    "tags": [
     "challengify"
    ]
   },
   "outputs": [
    {
     "name": "stdout",
     "output_type": "stream",
     "text": [
      "Baseline MAE = 0.595\n",
      "vs.\n",
      "RNN MAE = 0.249\n"
     ]
    }
   ],
   "source": [
    "# YOUR CODE HERE\n",
    "def constant_prediction(X, y):\n",
    "    errors = []\n",
    "    for xx, yy in zip(X, y):\n",
    "        last_salary = xx[-1][0]        # Using the 10th salary to predict the 11th salary\n",
    "        errors.append(yy - last_salary)\n",
    "        \n",
    "    return errors\n",
    "\n",
    "errors_baseline = constant_prediction(X, y)\n",
    "mae_baseline = np.mean(np.abs(errors_baseline))\n",
    "\n",
    "print(f'Baseline MAE = {mae_baseline:.3f}')\n",
    "print(\"vs.\")\n",
    "print(f'RNN MAE = {model_mae[1]:.3f}')"
   ]
  },
  {
   "cell_type": "markdown",
   "metadata": {},
   "source": [
    "😁 You should notice that your RNN performs a bit better than a baseline model."
   ]
  },
  {
   "cell_type": "markdown",
   "metadata": {},
   "source": [
    "## (4) LSTM: Long-Short Term Memory"
   ]
  },
  {
   "cell_type": "markdown",
   "metadata": {},
   "source": [
    "❓ **Questions** ❓ \n",
    "\n",
    "* Write the exact same model, but with a `LSTM` instead of a `SimpleRNN`\n",
    "* Evaluate your performance on the test set"
   ]
  },
  {
   "cell_type": "code",
   "execution_count": 30,
   "metadata": {
    "tags": [
     "challengify"
    ]
   },
   "outputs": [
    {
     "name": "stdout",
     "output_type": "stream",
     "text": [
      "Epoch 1/100\n",
      "500/500 [==============================] - 4s 5ms/step - loss: 17.5851 - mae: 1.8831 - val_loss: 4.3451 - val_mae: 0.8211\n",
      "Epoch 2/100\n",
      "500/500 [==============================] - 2s 3ms/step - loss: 2.6752 - mae: 0.5821 - val_loss: 1.2206 - val_mae: 0.4369\n",
      "Epoch 3/100\n",
      "500/500 [==============================] - 2s 3ms/step - loss: 1.2264 - mae: 0.3628 - val_loss: 0.7304 - val_mae: 0.2999\n",
      "Epoch 4/100\n",
      "500/500 [==============================] - 2s 4ms/step - loss: 0.9690 - mae: 0.3380 - val_loss: 0.6583 - val_mae: 0.3565\n",
      "Epoch 5/100\n",
      "500/500 [==============================] - 2s 3ms/step - loss: 0.8784 - mae: 0.3287 - val_loss: 0.5683 - val_mae: 0.2890\n",
      "Epoch 6/100\n",
      "500/500 [==============================] - 2s 3ms/step - loss: 0.7992 - mae: 0.3196 - val_loss: 0.5467 - val_mae: 0.2627\n",
      "Epoch 7/100\n",
      "500/500 [==============================] - 2s 4ms/step - loss: 0.7549 - mae: 0.3162 - val_loss: 0.5482 - val_mae: 0.3161\n",
      "Epoch 8/100\n",
      "500/500 [==============================] - 2s 4ms/step - loss: 0.7189 - mae: 0.3123 - val_loss: 0.5113 - val_mae: 0.2551\n",
      "Epoch 9/100\n",
      "500/500 [==============================] - 2s 4ms/step - loss: 0.7039 - mae: 0.3087 - val_loss: 0.7240 - val_mae: 0.5130\n",
      "Epoch 10/100\n",
      "500/500 [==============================] - 2s 4ms/step - loss: 0.6896 - mae: 0.3031 - val_loss: 0.5674 - val_mae: 0.3506\n",
      "Epoch 11/100\n",
      "500/500 [==============================] - 2s 4ms/step - loss: 0.6660 - mae: 0.3020 - val_loss: 0.5202 - val_mae: 0.2563\n",
      "Epoch 12/100\n",
      "500/500 [==============================] - 2s 4ms/step - loss: 0.6650 - mae: 0.2934 - val_loss: 0.5370 - val_mae: 0.2676\n",
      "Epoch 13/100\n",
      "500/500 [==============================] - 2s 4ms/step - loss: 0.6519 - mae: 0.2973 - val_loss: 0.5136 - val_mae: 0.2507\n"
     ]
    }
   ],
   "source": [
    "# YOUR CODE HERE\n",
    "from keras.layers import LSTM\n",
    "from keras.callbacks import EarlyStopping\n",
    "\n",
    "model_LSTM = Sequential()\n",
    "model_LSTM.add(normalizer)\n",
    "model_LSTM.add(LSTM(units=20, activation='tanh'))\n",
    "model_LSTM.add(Dense(10, activation='relu'))\n",
    "model_LSTM.add(Dense(1, activation='linear'))\n",
    "\n",
    "model_LSTM = compile_model(model_LSTM)\n",
    "\n",
    "es = EarlyStopping(patience=5, restore_best_weights=True)\n",
    "\n",
    "history_LSTM = model_LSTM.fit(X_train, y_train,\n",
    "                              validation_split=0.2,\n",
    "                              batch_size=32, \n",
    "                              epochs=100,\n",
    "                              callbacks=[es],verbose=1)"
   ]
  },
  {
   "cell_type": "code",
   "execution_count": 31,
   "metadata": {},
   "outputs": [
    {
     "data": {
      "text/plain": [
       "[<matplotlib.lines.Line2D at 0x142a7f880>]"
      ]
     },
     "execution_count": 31,
     "metadata": {},
     "output_type": "execute_result"
    },
    {
     "data": {
      "image/png": "[encoded data removed]",
      "text/plain": [
       "<Figure size 432x288 with 1 Axes>"
      ]
     },
     "metadata": {
      "needs_background": "light"
     },
     "output_type": "display_data"
    }
   ],
   "source": [
    " plt.plot(history_LSTM.history[\"mae\"])\n",
    "plt.plot(history_LSTM.history[\"val_mae\"])"
   ]
  },
  {
   "cell_type": "markdown",
   "metadata": {},
   "source": [
    "💪 The LSTM should perform a bit better than the SimpleRNN with a lower MAE."
   ]
  },
  {
   "cell_type": "markdown",
   "metadata": {},
   "source": [
    "🏁 Congratulations ! You know how to run a RNN on sequential data.\n",
    " \n",
    "\n",
    "💾 Do not forget to git add/commit/push your notebook...\n",
    "\n",
    "🚀 ... and move to the next challenge !\n",
    "\n",
    "---\n",
    "\n",
    "<u>Note</u>: The sequences you worked with are totally fake. In case, you need to train and reproduce similar data, you can find below the functions that have been used to simulate such a dataset."
   ]
  },
  {
   "cell_type": "markdown",
   "metadata": {},
   "source": [
    "## (Utils)"
   ]
  },
  {
   "cell_type": "code",
   "execution_count": 32,
   "metadata": {},
   "outputs": [],
   "source": [
    "def create_sequences(number):\n",
    "    X, y = [], []\n",
    "    \n",
    "    for i in range(number):\n",
    "        x_i, y_i = create_individual_sequence(10)\n",
    "        X.append(x_i)\n",
    "        y.append(y_i)\n",
    "        \n",
    "    return np.array(X), np.array(y)\n",
    "            \n",
    "def create_individual_sequence(length):\n",
    "    company_sizes = []\n",
    "    nb_persons = []\n",
    "    salaries = []\n",
    "    \n",
    "    \n",
    "    # Education level\n",
    "    educ_level = [max(0, int(np.random.normal(10, 2)))]*length\n",
    "    \n",
    "    # Company size\n",
    "    current_size = int(1 + np.random.beta(.4, 4)*500)\n",
    "    for i in range(length):\n",
    "        if not np.random.randint(4): # Change 1 out of 3 possibilities \n",
    "            current_size = int(max(1, np.random.normal(current_size, 50)))\n",
    "        company_sizes.append(current_size)\n",
    "    \n",
    "    # Number of persons\n",
    "    nb_iter = np.random.beta(.15, 4)*300\n",
    "    for i in range(length):\n",
    "        if not np.random.randint(2): # Change 1 out of 2 possibilities\n",
    "            R_1 = np.random.beta(0.5, 8)*3\n",
    "            nb_iter = nb_iter + max(-2, R_1*company_sizes[i] + np.random.randint(-2, 2))\n",
    "            nb_iter = max(0, nb_iter)\n",
    "            nb_iter = int(min(company_sizes[i]-1, nb_iter))\n",
    "        nb_persons.append(nb_iter)\n",
    "        \n",
    "    \n",
    "    # Salary\n",
    "    salary_iter = max(800, int(np.random.normal(1200, 300)+ 0.05*company_sizes[0] +  np.random.normal(40, 400)))\n",
    "    salaries.append(salary_iter)\n",
    "    for i in range(1, length + 1):\n",
    "        R_1 = np.random.normal(100, 50)\n",
    "        change_person = nb_persons[i-1] - nb_persons[i-2]\n",
    "        change_company = max(0, company_sizes[i-1] - company_sizes[i-2])\n",
    "        salary_iter = salary_iter + 0.05*change_company + change_person*R_1 + np.random.normal(100, 50)\n",
    "        salary_iter = max(int(salary_iter), 500)\n",
    "        \n",
    "        salaries.append(salary_iter)\n",
    "\n",
    "    y = salaries[-1]/1000\n",
    "    salaries = [_/1000 for _ in salaries[:-1]]\n",
    "    \n",
    "    return np.array([salaries, nb_persons, company_sizes]).T, y"
   ]
  },
  {
   "cell_type": "code",
   "execution_count": 34,
   "metadata": {},
   "outputs": [],
   "source": [
    "X, y = create_sequences(25000)\n",
    "\n",
    "np.save('X', X.astype(np.float32))\n",
    "np.save('y', y)"
   ]
  },
  {
   "cell_type": "code",
   "execution_count": null,
   "metadata": {},
   "outputs": [],
   "source": []
  }
 ],
 "metadata": {
  "kernelspec": {
   "display_name": "Python 3 (ipykernel)",
   "language": "python",
   "name": "python3"
  },
  "language_info": {
   "codemirror_mode": {
    "name": "ipython",
    "version": 3
   },
   "file_extension": ".py",
   "mimetype": "text/x-python",
   "name": "python",
   "nbconvert_exporter": "python",
   "pygments_lexer": "ipython3",
   "version": "3.8.12"
  },
  "toc": {
   "base_numbering": 1,
   "nav_menu": {},
   "number_sections": true,
   "sideBar": true,
   "skip_h1_title": false,
   "title_cell": "Table of Contents",
   "title_sidebar": "Contents",
   "toc_cell": false,
   "toc_position": {},
   "toc_section_display": true,
   "toc_window_display": false
  }
 },
 "nbformat": 4,
 "nbformat_minor": 2
}
